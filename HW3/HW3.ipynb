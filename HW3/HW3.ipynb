{
 "cells": [
  {
   "cell_type": "code",
   "execution_count": 13,
   "metadata": {},
   "outputs": [],
   "source": [
    "import os\n",
    "import numpy as np\n",
    "import cv2 as cv\n",
    "from matplotlib import pyplot as plt\n",
    "import random\n",
    "from datetime import datetime"
   ]
  },
  {
   "cell_type": "code",
   "execution_count": 14,
   "metadata": {},
   "outputs": [],
   "source": [
    "# Load the data\n",
    "imgs_in = np.zeros((28,28,200))\n",
    "imgs = np.zeros((8,8,200))\n",
    "a = int(input(\"a: (0~9)\"))\n",
    "b = int(input(\"b: (0~9)\"))\n",
    "for i in range(100):\n",
    "    imgs_in[:,:,i] = cv.imread(\"train1000/\"+str(100*a+i+1)+\".png\",cv.IMREAD_GRAYSCALE)\n",
    "    imgs_in[:,:,i+100] = cv.imread(\"train1000/\"+str(100*b+i+1)+\".png\",cv.IMREAD_GRAYSCALE)\n",
    "    imgs[:,:,i] = cv.resize(imgs_in[:,:,i], (8,8))\n",
    "    imgs[:,:,i+100] = cv.resize(imgs_in[:,:,i+100], (8,8))"
   ]
  },
  {
   "cell_type": "code",
   "execution_count": 15,
   "metadata": {},
   "outputs": [
    {
     "data": {
      "text/plain": [
       "<function matplotlib.pyplot.show(close=None, block=None)>"
      ]
     },
     "execution_count": 15,
     "metadata": {},
     "output_type": "execute_result"
    },
    {
     "data": {
      "image/png": "[encoded data removed]",
      "text/plain": [
       "<Figure size 640x480 with 2 Axes>"
      ]
     },
     "metadata": {},
     "output_type": "display_data"
    }
   ],
   "source": [
    "# Show input data\n",
    "fig = plt.figure()\n",
    "plt.subplot(121)\n",
    "plt.axis('off')\n",
    "plt.title(\"Data: \" + str(a))\n",
    "plt.imshow(imgs[:,:,0],\"gray\")\n",
    "plt.subplot(122)\n",
    "plt.axis('off')\n",
    "plt.title(\"Data: \" + str(b))\n",
    "plt.imshow(imgs[:,:,100],\"gray\")\n",
    "plt.show"
   ]
  },
  {
   "cell_type": "code",
   "execution_count": 16,
   "metadata": {},
   "outputs": [],
   "source": [
    "# Create filter1 & filter2\n",
    "filter1 = np.array([[-1, -1, 1], [-1, 0, 1], [-1, 1, 1]])\n",
    "filter2 = filter1.T"
   ]
  },
  {
   "cell_type": "code",
   "execution_count": 17,
   "metadata": {},
   "outputs": [],
   "source": [
    "# convolve2D\n",
    "def convolve2D(image, kernel):\n",
    "    kernel_size = kernel.shape[0]\n",
    "    h ,w = image.shape\n",
    "\n",
    "    image = np.pad(image, 1)\n",
    "    new_image = np.zeros((h,w))\n",
    "\n",
    "    for i in range(h):\n",
    "        for j in range(w):\n",
    "            new_image[i,j] = (image[i:i+kernel_size,j:j+kernel_size] * kernel).sum()\n",
    "\n",
    "    return new_image"
   ]
  },
  {
   "cell_type": "code",
   "execution_count": 18,
   "metadata": {},
   "outputs": [],
   "source": [
    "# max pooling\n",
    "def max_pool(img):\n",
    "    ds_img = np.zeros((img.shape[0]//2,img.shape[1]//2))\n",
    "\n",
    "    for i in range(ds_img.shape[0]):\n",
    "        for j in range(ds_img.shape[1]):\n",
    "            ds_img[i,j]=img[2*i+0:2*i+2,2*j+0:2*j+2].max()\n",
    "            \n",
    "    return ds_img"
   ]
  },
  {
   "cell_type": "code",
   "execution_count": 19,
   "metadata": {},
   "outputs": [],
   "source": [
    "# Feature extraction\n",
    "output = np.zeros((9,200))\n",
    "\n",
    "for i in range(200):\n",
    "\n",
    "    # Leyer 1: Convolve2D\n",
    "    conv1 = convolve2D(imgs[:,:,i],filter1)\n",
    "    conv2 = convolve2D(imgs[:,:,i],filter2)\n",
    "    # Leyer 1: Max pooling\n",
    "    conv1 = max_pool(conv1)\n",
    "    conv2= max_pool(conv2)\n",
    "    featuremap = np.stack((conv1,conv2),axis=0)\n",
    "    # Leyer 2: Convolve2D\n",
    "    conv1 = convolve2D(featuremap[0],filter1)\n",
    "    conv1 = convolve2D(conv1,filter2)\n",
    "    conv2 = convolve2D(featuremap[1],filter1)\n",
    "    conv2 = convolve2D(conv2,filter2)\n",
    "    # Leyer 2: Max pooling\n",
    "    conv1 = max_pool(conv1)\n",
    "    conv2= max_pool(conv2)\n",
    "    featuremap = np.stack((conv1,conv2),axis=0)\n",
    "    # Flatten\n",
    "    output[0:8,i] = featuremap.flatten()\n",
    "    # Add bias\n",
    "    output[8,i] = 1\n",
    "    "
   ]
  },
  {
   "cell_type": "code",
   "execution_count": 20,
   "metadata": {},
   "outputs": [],
   "source": [
    "# Create label\n",
    "X = output.T\n",
    "Y = np.concatenate((np.zeros((100,1)),np.ones((100,1))))"
   ]
  },
  {
   "cell_type": "code",
   "execution_count": 21,
   "metadata": {},
   "outputs": [],
   "source": [
    "# Linear regression\n",
    "A = (np.linalg.inv(X.T @ X)) @ X.T @ Y"
   ]
  },
  {
   "cell_type": "code",
   "execution_count": 22,
   "metadata": {},
   "outputs": [],
   "source": [
    "# Prediction of Y\n",
    "Yp = np.zeros((200,1))\n",
    "Yp[X.dot(A) >= 0.5] = 1\n",
    "\n",
    "# Ground Ture and Prediction with input values(a & b)\n",
    "GT = np.zeros((200,1))\n",
    "Pred = np.zeros((200,1))\n",
    "\n",
    "GT[Y == 0 ] = a\n",
    "GT[Y == 1 ] = b\n",
    "\n",
    "Pred[Yp == 0 ] = a\n",
    "Pred[Yp == 1 ] = b"
   ]
  },
  {
   "cell_type": "code",
   "execution_count": 23,
   "metadata": {},
   "outputs": [
    {
     "name": "stdout",
     "output_type": "stream",
     "text": [
      "[[89.  5.]\n",
      " [11. 95.]]\n"
     ]
    }
   ],
   "source": [
    "# Confuse matrix\n",
    "confuse_matrix = np.zeros((2,2))\n",
    "confuse_matrix[0,0] = np.sum([Yp[0:100] == Y[0:100]])\n",
    "confuse_matrix[1,0] = np.sum([Yp[0:100] != Y[0:100]])\n",
    "confuse_matrix[1,1] = np.sum([Yp[100:200] == Y[100:200]])\n",
    "confuse_matrix[0,1] = np.sum([Yp[100:200] != Y[100:200]])\n",
    "print(confuse_matrix)"
   ]
  },
  {
   "cell_type": "code",
   "execution_count": 24,
   "metadata": {},
   "outputs": [
    {
     "data": {
      "image/png": "[encoded data removed]",
      "text/plain": [
       "<Figure size 640x480 with 15 Axes>"
      ]
     },
     "metadata": {},
     "output_type": "display_data"
    }
   ],
   "source": [
    "# Show the result with random sampling\n",
    "random.seed(datetime.now())\n",
    "index = random.sample(list(range(200)),15)\n",
    "\n",
    "\n",
    "fig = plt.figure()\n",
    "for i in range(15):\n",
    "        plt.subplot(3,5,i+1)\n",
    "        plt.imshow(imgs_in[:,:,index[i]],\"gray\")\n",
    "        plt.axis('off')\n",
    "        if GT[index[i]] == Pred[index[i]]:\n",
    "                color=\"blue\"\n",
    "        else:\n",
    "                color = \"red\"\n",
    "        plt.title(str(int(Pred[index[i]]))+\" (\"+str(index[i])+\")\",color=color)\n",
    "plt.show()"
   ]
  }
 ],
 "metadata": {
  "kernelspec": {
   "display_name": "ImgPrs37",
   "language": "python",
   "name": "python3"
  },
  "language_info": {
   "codemirror_mode": {
    "name": "ipython",
    "version": 3
   },
   "file_extension": ".py",
   "mimetype": "text/x-python",
   "name": "python",
   "nbconvert_exporter": "python",
   "pygments_lexer": "ipython3",
   "version": "3.7.13"
  },
  "orig_nbformat": 4,
  "vscode": {
   "interpreter": {
    "hash": "6d97270a43e456b2316aec14c42a5da3278423c0c7c66e93c056f2e79d74de48"
   }
  }
 },
 "nbformat": 4,
 "nbformat_minor": 2
}
