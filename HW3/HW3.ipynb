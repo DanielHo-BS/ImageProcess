{
 "cells": [
  {
   "cell_type": "code",
   "execution_count": 1,
   "metadata": {},
   "outputs": [],
   "source": [
    "import os\n",
    "import numpy as np\n",
    "import cv2 as cv\n",
    "from matplotlib import pyplot as plt"
   ]
  },
  {
   "cell_type": "code",
   "execution_count": 2,
   "metadata": {},
   "outputs": [],
   "source": [
    "# Load the data\n",
    "imgs = np.zeros((8,8,200))\n",
    "a = int(input(\"a: (0~9)\"))\n",
    "b = int(input(\"b: (0~9)\"))\n",
    "for i in range(100):\n",
    "    imgs[:,:,i] = cv.resize(cv.imread(\"dataset/\"+str(100*a+i+1)+\".png\",cv.IMREAD_GRAYSCALE), (8,8))\n",
    "    imgs[:,:,i+100] = cv.resize(cv.imread(\"dataset/\"+str(100*b+i+1)+\".png\",cv.IMREAD_GRAYSCALE), (8,8))"
   ]
  },
  {
   "cell_type": "code",
   "execution_count": 3,
   "metadata": {},
   "outputs": [
    {
     "data": {
      "text/plain": [
       "<matplotlib.image.AxesImage at 0x1e9a4158f08>"
      ]
     },
     "execution_count": 3,
     "metadata": {},
     "output_type": "execute_result"
    },
    {
     "data": {
      "image/png": "[encoded data removed]",
      "text/plain": [
       "<Figure size 640x480 with 2 Axes>"
      ]
     },
     "metadata": {},
     "output_type": "display_data"
    }
   ],
   "source": [
    "# Show input data\n",
    "fig = plt.figure()\n",
    "plt.subplot(121)\n",
    "plt.axis('off')\n",
    "plt.title(\"Data: \" + str(a))\n",
    "plt.imshow(imgs[:,:,0],\"gray\")\n",
    "plt.subplot(122)\n",
    "plt.axis('off')\n",
    "plt.title(\"Data: \" + str(b))\n",
    "plt.imshow(imgs[:,:,100],\"gray\")"
   ]
  },
  {
   "cell_type": "code",
   "execution_count": 89,
   "metadata": {},
   "outputs": [],
   "source": [
    "# Create filter1 & filter2\n",
    "filter1 = np.array([[-1, -1, 1], [-1, 0, 1], [-1, 1, 1]])\n",
    "#filter2 = np.array([[0, -1, 0], [-1, 4, -1], [0, -1, 0]])\n",
    "filter2 = np.ones((3,3))/9"
   ]
  },
  {
   "cell_type": "code",
   "execution_count": 90,
   "metadata": {},
   "outputs": [],
   "source": [
    "# convolve2D\n",
    "def convolve2D(image, kernel, padding=0, strides=1):\n",
    "    kernel = np.flipud(np.fliplr(kernel))\n",
    "    xKernShape = kernel.shape[0] \n",
    "    yKernShape = kernel.shape[1] \n",
    "    xImgShape = image.shape[0] \n",
    "    yImgShape = image.shape[1]\n",
    "\n",
    "    xOutput = int(((xImgShape - xKernShape + 2 * padding) / strides) + 1)\n",
    "    yOutput = int(((yImgShape - yKernShape + 2 * padding) / strides) + 1)\n",
    "    output = np.zeros((xOutput, yOutput))\n",
    "    \n",
    "    # Padding\n",
    "    if padding != 0:\n",
    "        imagePadded = np.zeros((image.shape[0] + padding*2, image.shape[1] + padding*2))\n",
    "        imagePadded[int(padding):int(-1 * padding), int(padding):int(-1 * padding)] = image\n",
    "        # print(imagePadded)\n",
    "    else:\n",
    "        imagePadded = image\n",
    "\n",
    "    for y in range(image.shape[1]):\n",
    "        # Exit Convolution\n",
    "        if y > image.shape[1] - yKernShape:\n",
    "            break\n",
    "        # Only Convolve if y has gone down by the specified Strides\n",
    "        if y % strides == 0:\n",
    "            for x in range(image.shape[0]):\n",
    "                # Go to next row once kernel is out of bounds\n",
    "                if x > image.shape[0] - xKernShape:\n",
    "                    break\n",
    "                try:\n",
    "                    # Only Convolve if x has moved by the specified Strides\n",
    "                    if x % strides == 0:\n",
    "                        output[x, y] = (kernel * imagePadded[x: x + xKernShape, y: y + yKernShape]).sum()\n",
    "                except:\n",
    "                    break\n",
    "\n",
    "    return output"
   ]
  },
  {
   "cell_type": "code",
   "execution_count": 91,
   "metadata": {},
   "outputs": [],
   "source": [
    "# max pooling\n",
    "def max_pool(img):\n",
    "    ds_img = np.zeros((img.shape[0]//2,img.shape[1]//2))\n",
    "    for i in range(ds_img.shape[0]):\n",
    "        for j in range(ds_img.shape[1]):\n",
    "            ds_img[i,j]=img[2*i+0:2*i+2,2*j+0:2*j+2].max()\n",
    "    return ds_img"
   ]
  },
  {
   "cell_type": "code",
   "execution_count": 92,
   "metadata": {},
   "outputs": [],
   "source": [
    "output = np.zeros((8,8,2,200))\n",
    "output2 = np.zeros((4,4,2,200))\n",
    "output3 = np.zeros((2,2,2,200))\n",
    "output4 = np.zeros((9,200))\n",
    "\n",
    "for i in range(200):\n",
    "    output[:,:,0,i] = convolve2D(imgs[:,:,i],filter1, 1, 1)\n",
    "    output[:,:,1,i] = convolve2D(imgs[:,:,i],filter2, 1, 1)\n",
    "\n",
    "    output2[:,:,0,i] = max_pool(output[:,:,0,i])\n",
    "    output2[:,:,1,i] = max_pool(output[:,:,1,i])\n",
    "\n",
    "    output2[:,:,0,i] = convolve2D(output2[:,:,0,i],filter1, 1, 1)\n",
    "    output2[:,:,1,i] = convolve2D(output2[:,:,1,i],filter2, 1, 1)\n",
    "\n",
    "    output3[:,:,0,i] = max_pool(output2[:,:,0,i])\n",
    "    output3[:,:,1,i] = max_pool(output2[:,:,1,i])\n",
    "\n",
    "    output4[0:8,i] = output3[:,:,:,i].flatten()\n",
    "    output4[8,i] = 1\n",
    "    \n",
    "# Normalizing\n",
    "for i in range(9):\n",
    "    if output4[i,:].max() == output4[i,:].min():\n",
    "        output4[i,:] = 1\n",
    "    else:\n",
    "        output4[i,:] = output4[i,:] / np.linalg.norm(output4[i,:])"
   ]
  },
  {
   "cell_type": "code",
   "execution_count": 93,
   "metadata": {},
   "outputs": [],
   "source": [
    "# Create label\n",
    "X = output4.T\n",
    "Y = np.concatenate((np.zeros((100,1)),np.ones((100,1))))"
   ]
  },
  {
   "cell_type": "code",
   "execution_count": 94,
   "metadata": {},
   "outputs": [],
   "source": [
    "# Linear regression\n",
    "A = X.T.dot(np.linalg.inv(X.dot(X.T))).dot(Y)\n",
    "# A = np.linalg.inv(X.T.dot(X)).dot(X.T).dot(Y)"
   ]
  },
  {
   "cell_type": "code",
   "execution_count": 95,
   "metadata": {},
   "outputs": [],
   "source": [
    "Yp = X.dot(A)"
   ]
  }
 ],
 "metadata": {
  "kernelspec": {
   "display_name": "ImgPrs37",
   "language": "python",
   "name": "python3"
  },
  "language_info": {
   "codemirror_mode": {
    "name": "ipython",
    "version": 3
   },
   "file_extension": ".py",
   "mimetype": "text/x-python",
   "name": "python",
   "nbconvert_exporter": "python",
   "pygments_lexer": "ipython3",
   "version": "3.7.13"
  },
  "orig_nbformat": 4,
  "vscode": {
   "interpreter": {
    "hash": "edd73faa14d6ed05f450fa274b459215607c29c79acbb42526213b47a27c74ee"
   }
  }
 },
 "nbformat": 4,
 "nbformat_minor": 2
}
